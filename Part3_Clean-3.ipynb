{
 "cells": [
  {
   "cell_type": "code",
   "execution_count": null,
   "metadata": {},
   "outputs": [
    {
     "name": "stderr",
     "output_type": "stream",
     "text": [
      "also installing the dependencies ‘proto’, ‘RgoogleMaps’, ‘png’, ‘mapproj’, ‘jpeg’, ‘geosphere’, ‘sp’\n",
      "\n"
     ]
    }
   ],
   "source": [
    "install.packages(c('twitteR', 'ggmap', 'ggplot2', 'utf8', 'maps', 'maptools', 'RCurl', 'rjson', 'httr', 'googleVis'))"
   ]
  },
  {
   "cell_type": "code",
   "execution_count": null,
   "metadata": {},
   "outputs": [],
   "source": [
    "library(twitteR)\n",
    "library(ggmap)\n",
    "library(RgoogleMaps)\n",
    "library(ggplot2)\n",
    "library(utf8)\n",
    "library(geosphere)\n",
    "library(httr)\n",
    "library(png)\n",
    "library(jpeg)\n",
    "library(maps)\n",
    "library(maptools)\n",
    "library(RCurl)\n",
    "library(rjson)\n",
    "library(plyr)"
   ]
  },
  {
   "cell_type": "code",
   "execution_count": null,
   "metadata": {},
   "outputs": [],
   "source": [
    "# Load the data obtained from the other jupyter file# data cleaned to get only the addressed and geocode of the united states, removed ones with duplicates since some of the searches overlapped\n",
    "ll.flu_2_24_3_06_East_part1_USA <- as.data.frame(read.csv(file = \"data/unique_lat_long/ll.flu_2_24_3_06_East_part1_USA.csv\", header = T, sep = \",\"))\n",
    "ll.flu_2_24_3_06_EastDF_part2_USA <- as.data.frame(read.csv(file = \"data/unique_lat_long/ll.flu_2_24_3_06_EastDF_part2_USA.csv\", header = T, sep = \",\"))\n",
    "ll.flu_2_24_3_06_West_part2_USA <- as.data.frame(read.csv(file = \"data/unique_lat_long/ll.flu_2_24_3_06_West_part2_USA.csv\", header = T, sep =\",\"))\n",
    "ll.flu_2_24_3_06_West_part3_USA <- as.data.frame(read.csv(file = \"data/unique_lat_long/ll.flu_2_24_3_06_West_part3_USA.csv\", header = T, sep = \",\"))\n",
    "ll.influenza_2_24_3_09_part2DF_USA <- as.data.frame(read.csv(file = \"data/unique_lat_long/ll.influenza_2_24_3_09_part2DF_USA.csv\", header = T, sep = \",\"))\n",
    "ll.influenza_2_24_3_09DF_USA <- as.data.frame(read.csv(file = \"data/unique_lat_long/ll.influenza_2_24_3_09DF_USA.csv\", header = T, sep = \",\"))"
   ]
  },
  {
   "cell_type": "code",
   "execution_count": null,
   "metadata": {},
   "outputs": [],
   "source": [
    "ll.flu_2_24_3_06_East_part1_USA <- ll.flu_2_24_3_06_East_part1_USA[,c(2:4)]\n",
    "ll.flu_2_24_3_06_EastDF_part2_USA <- ll.flu_2_24_3_06_EastDF_part2_USA[,c(2:4)]\n",
    "ll.flu_2_24_3_06_West_part2_USA <- ll.flu_2_24_3_06_West_part2_USA[,c(3:5)]\n",
    "ll.flu_2_24_3_06_West_part3_USA <- ll.flu_2_24_3_06_West_part3_USA[,c(3:5)]\n",
    "ll.influenza_2_24_3_09_part2DF_USA <- ll.influenza_2_24_3_09_part2DF_USA[,c(2:4)]\n",
    "ll.influenza_2_24_3_09DF_USA <- ll.influenza_2_24_3_09DF_USA[,c(2:4)]"
   ]
  },
  {
   "cell_type": "code",
   "execution_count": null,
   "metadata": {},
   "outputs": [],
   "source": [
    "usa_super_data <- as.data.frame(NULL, NULL)\n",
    "usa_super_data <- rbind(usa_super_data, ll.flu_2_24_3_06_East_part1_USA)\n",
    "usa_super_data <- rbind(usa_super_data, ll.flu_2_24_3_06_EastDF_part2_USA)\n",
    "usa_super_data <- rbind(usa_super_data, ll.flu_2_24_3_06_West_part2_USA)\n",
    "usa_super_data <- rbind(usa_super_data, ll.flu_2_24_3_06_West_part3_USA)\n",
    "usa_super_data <- rbind(usa_super_data, ll.influenza_2_24_3_09_part2DF_USA)\n",
    "usa_super_data <- rbind(usa_super_data, ll.influenza_2_24_3_09DF_USA)"
   ]
  },
  {
   "cell_type": "code",
   "execution_count": null,
   "metadata": {},
   "outputs": [],
   "source": [
    "#write.csv(x = usa_super_data, file = \"usa_super_data.csv\")"
   ]
  },
  {
   "cell_type": "code",
   "execution_count": null,
   "metadata": {},
   "outputs": [],
   "source": [
    "# LOAD THE SUPER DATA\n",
    "usa_super_data <- as.data.frame(read.csv(file = \"data/usa_super_data.csv\", header = T, sep = \",\"))\n",
    "usa_super_data"
   ]
  },
  {
   "cell_type": "code",
   "execution_count": null,
   "metadata": {},
   "outputs": [],
   "source": [
    "stateDF <- myDataFrame <- read.csv(text=\"state\", header = TRUE, stringsAsFactors = FALSE)"
   ]
  },
  {
   "cell_type": "code",
   "execution_count": null,
   "metadata": {},
   "outputs": [],
   "source": [
    "counter <- 0\n",
    "#stateDF <- myDataFrame <- read.csv(text=\"state\", header = TRUE, stringsAsFactors = FALSE)\n",
    "stateList <- c()\n",
    "for(i in i:nrow(usa_super_data)){\n",
    "    if(counter == 3){\n",
    "        Sys.sleep(1)\n",
    "        counter <- 0\n",
    "    }\n",
    "    counter <- counter + 1\n",
    "    while(length(stateList) != i){\n",
    "        reversedgeo <- revgeocode(c(usa_super_data[i,]$lon, usa_super_data[i,]$lat), output = 'more')\n",
    "        if(length(reversedgeo$address) != 0){\n",
    "            #stateDF <- rbind(stateDF, tolower(reversedgeo$administrative_area_level_1))\n",
    "            stateList <- c(stateList, tolower(reversedgeo$administrative_area_level_1))\n",
    "            #print(tolower(reversedgeo$administrative_area_level_1))\n",
    "            }\n",
    "        } \n",
    "    }\n",
    "head(stateList)\n",
    "# ended at 1701, did not get all 2021"
   ]
  },
  {
   "cell_type": "code",
   "execution_count": null,
   "metadata": {
    "scrolled": true
   },
   "outputs": [],
   "source": [
    "lists<- c()\n",
    "lists\n",
    "lists<-c(lists, 45,34)\n",
    "lists"
   ]
  },
  {
   "cell_type": "code",
   "execution_count": null,
   "metadata": {},
   "outputs": [],
   "source": [
    "length(stateList)\n",
    "stateListDF <- as.data.frame(stateList)\n",
    "write.csv(x = stateListDF, file = \"stateListDF.csv\")"
   ]
  },
  {
   "cell_type": "code",
   "execution_count": null,
   "metadata": {},
   "outputs": [],
   "source": [
    "reversedgeo <- revgeocode(c(usa_super_data[1,]$lon, usa_super_data[1,]$lat), output = 'more')\n",
    "reversedgeo"
   ]
  },
  {
   "cell_type": "code",
   "execution_count": null,
   "metadata": {},
   "outputs": [],
   "source": [
    "reversedgeo <- revgeocode(c(usa_super_data[1,]$lon, usa_super_data[1,]$lat), output = 'more')\n",
    "reversedgeo"
   ]
  },
  {
   "cell_type": "code",
   "execution_count": null,
   "metadata": {},
   "outputs": [],
   "source": [
    "usa_map <- get_map(zoom = 4)"
   ]
  },
  {
   "cell_type": "code",
   "execution_count": null,
   "metadata": {
    "scrolled": true
   },
   "outputs": [],
   "source": [
    "ggmap(usa_map) + \n",
    "stat_density2d(aes(x = lon, y = lat, fill = ..level.., alpha = .1), bins = 10, geom = \"polygon\",data = usa_super_data) +\n",
    "scale_fill_gradient(low = \"green\", high = \"red\") + \n",
    "scale_x_continuous(breaks = NULL) +\n",
    "scale_y_continuous(breaks = NULL) "
   ]
  },
  {
   "cell_type": "code",
   "execution_count": null,
   "metadata": {},
   "outputs": [],
   "source": [
    "states <- c(\"California\", \"Alabama\", \"Arkansas\", \"Arizona\", \"Alaska\", \"Colorado\", \"Connecticut\", \"Delaware\", \"Florida\", \"Georgia\", \"Hawaii\", \"Idaho\", \"Illinois\", \"Indiana\", \"Iowa\", \"Kansas\", \"Kentucky\", \"Louisiana\", \"Maine\", \"Maryland\", \"Massachusetts\", \"Michigan\", \"Minnesota\", \"Mississippi\", \"Missouri\", \"Montana\", \"Nebraska\", \"Nevada\", \"New Hampshire\", \"New Jersey\", \"New Mexico\", \"New York\", \"North Carolina\", \"North Dakota\", \"Ohio\", \"Oklahoma\", \"Oregon\", \"Pennsylvania\", \"Rhode Island\", \"South Carolina\", \"South Dakota\", \"Tennessee\", \"Texas\", \"Utah\", \"Vermont\", \"Virginia\", \"Washington\", \"West Virginia\", \"Wisconsin\", \"Wyoming\", \"district of columbia\")\n",
    "for(i in 1:length(states)){\n",
    "    states[i] <- tolower(states[i])\n",
    "}\n",
    "sort(states)"
   ]
  },
  {
   "cell_type": "code",
   "execution_count": null,
   "metadata": {},
   "outputs": [],
   "source": [
    "frequency_map<-new.env()\n",
    "for(i in 1:length(states)){\n",
    "    frequency_map[[as.character(states[i])]] <- 0\n",
    "}"
   ]
  },
  {
   "cell_type": "code",
   "execution_count": null,
   "metadata": {},
   "outputs": [],
   "source": [
    "for(i in 1:length(stateList)){\n",
    "    frequency_map[[stateList[i]]] <- get(stateList[i], frequency_map) + 1\n",
    "}"
   ]
  },
  {
   "cell_type": "code",
   "execution_count": null,
   "metadata": {},
   "outputs": [],
   "source": [
    "get(\"california\", frequency_map)"
   ]
  },
  {
   "cell_type": "code",
   "execution_count": null,
   "metadata": {},
   "outputs": [],
   "source": [
    "theStatesDF <- as.data.frame(x = NULL, text=c(\"state\", \"numTweets\"))"
   ]
  },
  {
   "cell_type": "code",
   "execution_count": null,
   "metadata": {},
   "outputs": [],
   "source": [
    "asDF <- as.data.frame(as.list(frequency_map))"
   ]
  },
  {
   "cell_type": "code",
   "execution_count": null,
   "metadata": {},
   "outputs": [],
   "source": [
    "head(asDF)"
   ]
  },
  {
   "cell_type": "code",
   "execution_count": null,
   "metadata": {},
   "outputs": [],
   "source": [
    "formattedStatesDF <- data.frame(t(asDF))\n",
    "colnames(formattedStatesDF) <- c('numTweets')"
   ]
  },
  {
   "cell_type": "code",
   "execution_count": null,
   "metadata": {},
   "outputs": [],
   "source": [
    "formattedStatesDF\n",
    "nrow(formattedStatesDF)\n",
    "ncol(formattedStatesDF)"
   ]
  },
  {
   "cell_type": "code",
   "execution_count": null,
   "metadata": {},
   "outputs": [],
   "source": [
    "write.csv(x = formattedStatesDF, file = \"formattedStatesDF.csv\")"
   ]
  },
  {
   "cell_type": "code",
   "execution_count": null,
   "metadata": {},
   "outputs": [],
   "source": [
    "states_list <- c(rownames(formattedStatesDF))"
   ]
  },
  {
   "cell_type": "code",
   "execution_count": null,
   "metadata": {},
   "outputs": [],
   "source": [
    "formattedStatesDF$id <- states_list"
   ]
  },
  {
   "cell_type": "code",
   "execution_count": null,
   "metadata": {},
   "outputs": [],
   "source": [
    "formattedStatesDF"
   ]
  },
  {
   "cell_type": "code",
   "execution_count": null,
   "metadata": {},
   "outputs": [],
   "source": [
    "install.packages('plotly')\n",
    "install.packages('ggplot2')\n",
    "install.packages('fiftystater')"
   ]
  },
  {
   "cell_type": "code",
   "execution_count": null,
   "metadata": {},
   "outputs": [],
   "source": [
    "library(plotly)\n",
    "library(ggplot2)\n",
    "library(fiftystater)"
   ]
  },
  {
   "cell_type": "code",
   "execution_count": null,
   "metadata": {},
   "outputs": [],
   "source": [
    "data('fifty_states')\n",
    "head(fifty_states)"
   ]
  },
  {
   "cell_type": "code",
   "execution_count": null,
   "metadata": {},
   "outputs": [],
   "source": [
    "tweets_heat_map_dataDF <- merge(fifty_states, formattedStatesDF, by=\"id\", all.formattedStatesDF=T, group = group)\n",
    "head(tweets_heat_map_dataDF)\n",
    "write.csv(x = tweets_heat_map_dataDF, file = \"tweets_heat_map_dataDF.csv\")"
   ]
  },
  {
   "cell_type": "code",
   "execution_count": null,
   "metadata": {},
   "outputs": [],
   "source": [
    "#the_map <- ggplot(heat_map_data, aes(map_id = id)) + geom_map(aes(fill = ..level..), map = fifty_states) + expand_limits(x = fifty_states$long, y = fifty_states$lat) + coord_map() + scale_x_continuous(breaks = NULL) + scale_y_continuous(breaks = NULL) + labs(x = \"\", y = \"\") + theme(legend.position = \"bottom\", panel.background = element_blank())\n",
    "#the_map\n",
    "# create the colors needed for the level of activity\n",
    "my_palette <- rev(colorRampPalette(c(\"red\", \"yellow\", \"green\"))(n = 299))\n",
    "# create the ggplot with our data\n",
    "the_map <- ggplot(tweets_heat_map_dataDF, aes(x = long, y = lat, group = group)) + \n",
    "# set the title\n",
    "labs(x = \"\", y = \"\", title = \"Flu and Influenza Number of Tweets by State\") +\n",
    "# properly align the map to be horizontal\n",
    "coord_map() +\n",
    "# fill the map based on the color\n",
    "geom_polygon(aes(fill = numTweets)) +\n",
    "# outline the states\n",
    "geom_path() +\n",
    "# fill the color of the heat map\n",
    "scale_fill_gradientn(colors = my_palette) +\n",
    "# remove x axis \n",
    "scale_x_continuous(breaks = NULL) +\n",
    "# remove y axis\n",
    "scale_y_continuous(breaks = NULL) \n",
    "the_map"
   ]
  },
  {
   "cell_type": "code",
   "execution_count": null,
   "metadata": {},
   "outputs": [],
   "source": [
    "nrow(tweets_heat_map_dataDF)\n",
    "# I noticed that the number of rows in the part 2 heat map is around 14,000. The map seems to not have collected enough coordinates"
   ]
  },
  {
   "cell_type": "code",
   "execution_count": null,
   "metadata": {},
   "outputs": [],
   "source": []
  }
 ],
 "metadata": {
  "kernelspec": {
   "display_name": "R",
   "language": "R",
   "name": "ir"
  },
  "language_info": {
   "codemirror_mode": "r",
   "file_extension": ".r",
   "mimetype": "text/x-r-source",
   "name": "R",
   "pygments_lexer": "r",
   "version": "3.4.1"
  }
 },
 "nbformat": 4,
 "nbformat_minor": 2
}
